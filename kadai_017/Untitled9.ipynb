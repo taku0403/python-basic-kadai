{
  "nbformat": 4,
  "nbformat_minor": 0,
  "metadata": {
    "colab": {
      "provenance": []
    },
    "kernelspec": {
      "name": "python3",
      "display_name": "Python 3"
    },
    "language_info": {
      "name": "python"
    }
  },
  "cells": [
    {
      "cell_type": "code",
      "execution_count": 22,
      "metadata": {
        "colab": {
          "base_uri": "https://localhost:8080/"
        },
        "id": "E-R8hmihCGC3",
        "outputId": "fed73892-0f29-48a9-f9a3-a63d6e707472"
      },
      "outputs": [
        {
          "output_type": "stream",
          "name": "stdout",
          "text": [
            "一郎は大人である\n",
            "次郎は大人である\n",
            "三郎は大人である\n",
            "四郎は大人でない\n",
            "五郎は大人でない\n",
            "拓都は大人である\n"
          ]
        }
      ],
      "source": [
        "class Human:\n",
        "  def __init__(self, name, age):\n",
        "    self.name = name\n",
        "    self.age = age\n",
        "\n",
        "  def check_adult(self):\n",
        "    if self.age >= 20:\n",
        "      print(f\"{self.name}は大人である\")\n",
        "    else:\n",
        "      print(f\"{self.name}は大人でない\")\n",
        "\n",
        "human1 = Human(\"一郎\", 30)\n",
        "human2 = Human(\"次郎\", 28)\n",
        "human3 = Human(\"三郎\", 20)\n",
        "human4 = Human(\"四郎\", 17)\n",
        "human5 = Human(\"五郎\", 14)\n",
        "human6 = Human(\"拓都\", 25)\n",
        "\n",
        "human = [human1, human2, human3, human4, human5,human6]\n",
        "\n",
        "for human_check in human:\n",
        "  human_check.check_adult()\n"
      ]
    }
  ]
}