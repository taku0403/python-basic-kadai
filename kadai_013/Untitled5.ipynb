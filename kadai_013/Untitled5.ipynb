{
  "nbformat": 4,
  "nbformat_minor": 0,
  "metadata": {
    "colab": {
      "provenance": []
    },
    "kernelspec": {
      "name": "python3",
      "display_name": "Python 3"
    },
    "language_info": {
      "name": "python"
    }
  },
  "cells": [
    {
      "cell_type": "code",
      "execution_count": 8,
      "metadata": {
        "id": "wXQnmQ7BAeMg",
        "colab": {
          "base_uri": "https://localhost:8080/"
        },
        "outputId": "15a20825-fec4-4bb6-a8ab-29f9679bafa3"
      },
      "outputs": [
        {
          "output_type": "stream",
          "name": "stdout",
          "text": [
            "121.00000000000001\n"
          ]
        }
      ],
      "source": [
        "def calc(value, tax):\n",
        "  return value * (1 + tax / 100)\n",
        "\n",
        "print(calc(110, 10))"
      ]
    }
  ]
}